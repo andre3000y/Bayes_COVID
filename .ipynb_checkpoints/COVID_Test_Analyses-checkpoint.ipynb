{
 "cells": [
  {
   "cell_type": "code",
   "execution_count": 18,
   "id": "d78254ce-1162-4ef6-bb5c-aae377c3f6f1",
   "metadata": {},
   "outputs": [],
   "source": [
    "from bs4 import BeautifulSoup\n",
    "import requests\n",
    "import pandas as pd"
   ]
  },
  {
   "cell_type": "code",
   "execution_count": 19,
   "id": "559027e8-5197-4657-862b-3786005bc81a",
   "metadata": {},
   "outputs": [],
   "source": [
    "url = 'https://www.thelancet.com/journals/laninf/article/PIIS1473-3099(21)00048-7/fulltext'\n",
    "response = requests.get(url)\n",
    "# print(response.text)"
   ]
  },
  {
   "cell_type": "code",
   "execution_count": 29,
   "id": "85ace162-fc2d-495a-af3c-deae0c13b74c",
   "metadata": {},
   "outputs": [],
   "source": [
    "soup = BeautifulSoup(response.text, 'lxml')\n",
    "table = soup.find_all('tbody')[0].find_all('td')"
   ]
  },
  {
   "cell_type": "code",
   "execution_count": 30,
   "id": "518f44f9-7755-4be9-9e35-763e389a3569",
   "metadata": {},
   "outputs": [
    {
     "data": {
      "text/plain": [
       "[<td>Abbott BinaxNOW, USA</td>,\n",
       " <td>Nasal swab</td>,\n",
       " <td>0–7 days</td>,\n",
       " <td>Visual, 15 min</td>,\n",
       " <td>97%, 99%</td>,\n",
       " <td>WHO Emergency Use Listing; US FDA Emergency Use Authorization; app for results; influenza A and B tests available</td>,\n",
       " <td>Abbott Panbio, USA</td>,\n",
       " <td>Nasal swab, nasopharyngeal swab</td>,\n",
       " <td>0–7 days</td>,\n",
       " <td>Visual, 15–20min</td>,\n",
       " <td>93%, 99%</td>,\n",
       " <td>WHO Emergency Use Listing; US FDA Emergency Use Authorization pending</td>,\n",
       " <td>Access Bio CareStart, USA</td>,\n",
       " <td>Nasal swab, nasopharyngeal swab</td>,\n",
       " <td>0–5 days</td>,\n",
       " <td>Visual, 15–20min</td>,\n",
       " <td>88%, 100%</td>,\n",
       " <td>US FDA Emergency Use Authorization</td>,\n",
       " <td>BD Veritor, USA</td>,\n",
       " <td>Nasal swab</td>,\n",
       " <td>0–5 days</td>,\n",
       " <td>Instrument, 30 min</td>,\n",
       " <td>84%, 100%</td>,\n",
       " <td>US FDA Emergency Use Authorization</td>,\n",
       " <td>LumiraDx, UK</td>,\n",
       " <td>Nasal swab</td>,\n",
       " <td>0–12 days</td>,\n",
       " <td>Instrument, 12 min</td>,\n",
       " <td>98%, 97%</td>,\n",
       " <td>US FDA Emergency Use Authorization</td>,\n",
       " <td>Quidel Sofia SARS Antigen Fluorescent Immunoassay, USA</td>,\n",
       " <td>Nasal swab, nasopharyngeal swab</td>,\n",
       " <td>0–5 days</td>,\n",
       " <td>Instrument, 20 min</td>,\n",
       " <td>97%, 100%</td>,\n",
       " <td>US FDA Emergency Use Authorization; does not differentiate between SARS-CoV and SARS-CoV-2</td>,\n",
       " <td>Quidel Sofia Flu and SARS Antigen Fluorescent Immunoassay, USA</td>,\n",
       " <td>Nasal swab, nasopharyngeal swab</td>,\n",
       " <td>0–5 days</td>,\n",
       " <td>Instrument, 20 min</td>,\n",
       " <td>95%, 100%</td>,\n",
       " <td>US FDA Emergency Use Authorization</td>,\n",
       " <td>SD Biosensor, South Korea</td>,\n",
       " <td>Nasal swab, nasopharyngeal swab</td>,\n",
       " <td>Not stated</td>,\n",
       " <td>Visual, 15–30min</td>,\n",
       " <td>97%, 100%</td>,\n",
       " <td>WHO Emergency Use Listing</td>]"
      ]
     },
     "execution_count": 30,
     "metadata": {},
     "output_type": "execute_result"
    }
   ],
   "source": [
    "table"
   ]
  },
  {
   "cell_type": "code",
   "execution_count": 32,
   "id": "d687dae8-627e-45bb-ba7b-d15a8a61e43d",
   "metadata": {},
   "outputs": [
    {
     "data": {
      "text/plain": [
       "['Abbott BinaxNOW, USA',\n",
       " 'Nasal swab',\n",
       " '0–7 days',\n",
       " 'Visual, 15 min',\n",
       " '97%, 99%',\n",
       " 'WHO Emergency Use Listing; US FDA Emergency Use Authorization; app for results; influenza A and B tests available',\n",
       " 'Abbott Panbio, USA',\n",
       " 'Nasal swab, nasopharyngeal swab',\n",
       " '0–7 days',\n",
       " 'Visual, 15–20min',\n",
       " '93%, 99%',\n",
       " 'WHO Emergency Use Listing; US FDA Emergency Use Authorization pending',\n",
       " 'Access Bio CareStart, USA',\n",
       " 'Nasal swab, nasopharyngeal swab',\n",
       " '0–5 days',\n",
       " 'Visual, 15–20min',\n",
       " '88%, 100%',\n",
       " 'US FDA Emergency Use Authorization',\n",
       " 'BD Veritor, USA',\n",
       " 'Nasal swab',\n",
       " '0–5 days',\n",
       " 'Instrument, 30 min',\n",
       " '84%, 100%',\n",
       " 'US FDA Emergency Use Authorization',\n",
       " 'LumiraDx, UK',\n",
       " 'Nasal swab',\n",
       " '0–12 days',\n",
       " 'Instrument, 12 min',\n",
       " '98%, 97%',\n",
       " 'US FDA Emergency Use Authorization',\n",
       " 'Quidel Sofia SARS Antigen Fluorescent Immunoassay, USA',\n",
       " 'Nasal swab, nasopharyngeal swab',\n",
       " '0–5 days',\n",
       " 'Instrument, 20 min',\n",
       " '97%, 100%',\n",
       " 'US FDA Emergency Use Authorization; does not differentiate between SARS-CoV and SARS-CoV-2',\n",
       " 'Quidel Sofia Flu and SARS Antigen Fluorescent Immunoassay, USA',\n",
       " 'Nasal swab, nasopharyngeal swab',\n",
       " '0–5 days',\n",
       " 'Instrument, 20 min',\n",
       " '95%, 100%',\n",
       " 'US FDA Emergency Use Authorization',\n",
       " 'SD Biosensor, South Korea',\n",
       " 'Nasal swab, nasopharyngeal swab',\n",
       " 'Not stated',\n",
       " 'Visual, 15–30min',\n",
       " '97%, 100%',\n",
       " 'WHO Emergency Use Listing']"
      ]
     },
     "execution_count": 32,
     "metadata": {},
     "output_type": "execute_result"
    }
   ],
   "source": [
    "contents = [value.text for value in table]\n",
    "contents"
   ]
  },
  {
   "cell_type": "code",
   "execution_count": 50,
   "id": "f85a4867-48b7-49e0-9705-ca409c912278",
   "metadata": {},
   "outputs": [],
   "source": [
    "tests = [text for i, text in enumerate(contents) if i%6 == 0]\n",
    "sensitivities = [text.split(', ')[0] for i, text in enumerate(contents) if i%6 == 4]\n",
    "specificities = [text.split(', ')[1] for i, text in enumerate(contents) if i%6 == 4]"
   ]
  },
  {
   "cell_type": "code",
   "execution_count": 51,
   "id": "51d2d9a8-665a-4493-b918-eafcf1ad3eea",
   "metadata": {},
   "outputs": [
    {
     "data": {
      "text/html": [
       "<div>\n",
       "<style scoped>\n",
       "    .dataframe tbody tr th:only-of-type {\n",
       "        vertical-align: middle;\n",
       "    }\n",
       "\n",
       "    .dataframe tbody tr th {\n",
       "        vertical-align: top;\n",
       "    }\n",
       "\n",
       "    .dataframe thead th {\n",
       "        text-align: right;\n",
       "    }\n",
       "</style>\n",
       "<table border=\"1\" class=\"dataframe\">\n",
       "  <thead>\n",
       "    <tr style=\"text-align: right;\">\n",
       "      <th></th>\n",
       "      <th>Test_Name</th>\n",
       "      <th>Sensitivity</th>\n",
       "      <th>Specificity</th>\n",
       "    </tr>\n",
       "  </thead>\n",
       "  <tbody>\n",
       "    <tr>\n",
       "      <th>0</th>\n",
       "      <td>Abbott BinaxNOW, USA</td>\n",
       "      <td>0.97</td>\n",
       "      <td>0.99</td>\n",
       "    </tr>\n",
       "    <tr>\n",
       "      <th>1</th>\n",
       "      <td>Abbott Panbio, USA</td>\n",
       "      <td>0.93</td>\n",
       "      <td>0.99</td>\n",
       "    </tr>\n",
       "    <tr>\n",
       "      <th>2</th>\n",
       "      <td>Access Bio CareStart, USA</td>\n",
       "      <td>0.88</td>\n",
       "      <td>1.00</td>\n",
       "    </tr>\n",
       "    <tr>\n",
       "      <th>3</th>\n",
       "      <td>BD Veritor, USA</td>\n",
       "      <td>0.84</td>\n",
       "      <td>1.00</td>\n",
       "    </tr>\n",
       "    <tr>\n",
       "      <th>4</th>\n",
       "      <td>LumiraDx, UK</td>\n",
       "      <td>0.98</td>\n",
       "      <td>0.97</td>\n",
       "    </tr>\n",
       "    <tr>\n",
       "      <th>5</th>\n",
       "      <td>Quidel Sofia SARS Antigen Fluorescent Immunoas...</td>\n",
       "      <td>0.97</td>\n",
       "      <td>1.00</td>\n",
       "    </tr>\n",
       "    <tr>\n",
       "      <th>6</th>\n",
       "      <td>Quidel Sofia Flu and SARS Antigen Fluorescent ...</td>\n",
       "      <td>0.95</td>\n",
       "      <td>1.00</td>\n",
       "    </tr>\n",
       "    <tr>\n",
       "      <th>7</th>\n",
       "      <td>SD Biosensor, South Korea</td>\n",
       "      <td>0.97</td>\n",
       "      <td>1.00</td>\n",
       "    </tr>\n",
       "  </tbody>\n",
       "</table>\n",
       "</div>"
      ],
      "text/plain": [
       "                                           Test_Name  Sensitivity  Specificity\n",
       "0                               Abbott BinaxNOW, USA         0.97         0.99\n",
       "1                                 Abbott Panbio, USA         0.93         0.99\n",
       "2                          Access Bio CareStart, USA         0.88         1.00\n",
       "3                                    BD Veritor, USA         0.84         1.00\n",
       "4                                       LumiraDx, UK         0.98         0.97\n",
       "5  Quidel Sofia SARS Antigen Fluorescent Immunoas...         0.97         1.00\n",
       "6  Quidel Sofia Flu and SARS Antigen Fluorescent ...         0.95         1.00\n",
       "7                          SD Biosensor, South Korea         0.97         1.00"
      ]
     },
     "execution_count": 51,
     "metadata": {},
     "output_type": "execute_result"
    }
   ],
   "source": [
    "df = pd.DataFrame({'Test_Name':tests, 'Sensitivity':sensitivities, 'Specificity':specificities})\n",
    "df['Sensitivity'] = df['Sensitivity'].map(lambda x: int(x.strip('%')))/100\n",
    "df['Specificity'] = df['Specificity'].map(lambda x: int(x.strip('%')))/100\n",
    "df"
   ]
  },
  {
   "cell_type": "code",
   "execution_count": 52,
   "id": "da735cdf-c4aa-448d-b87b-e2c52f6e6bac",
   "metadata": {},
   "outputs": [],
   "source": [
    "def bayes(pBA, pA, pBnA):\n",
    "    # takes in:\n",
    "    # probability of B given A (pBA)\n",
    "    # probability of A (pA)\n",
    "    # probability of B given not A (pBnA)\n",
    "    # returns: probability of A given B\n",
    "    \n",
    "    return pBA*pA/(pBA*pA + pBnA*(1-pA))"
   ]
  },
  {
   "cell_type": "code",
   "execution_count": 57,
   "id": "c32aa586-dfd7-4fdf-9c07-0706c1d3e4ec",
   "metadata": {},
   "outputs": [],
   "source": [
    "df['P(virus|+)'] = bayes(df['Sensitivity'], 0.17, 1-df['Specificity'])\n",
    "df['P(virus|-)'] = bayes(1-df['Sensitivity'], 0.17, df['Specificity'])"
   ]
  },
  {
   "cell_type": "code",
   "execution_count": null,
   "id": "ebdbf8ee-7411-40af-a2e4-3ceb0257d5c6",
   "metadata": {},
   "outputs": [],
   "source": []
  }
 ],
 "metadata": {
  "kernelspec": {
   "display_name": "learn-env",
   "language": "python",
   "name": "learn-env"
  },
  "language_info": {
   "codemirror_mode": {
    "name": "ipython",
    "version": 3
   },
   "file_extension": ".py",
   "mimetype": "text/x-python",
   "name": "python",
   "nbconvert_exporter": "python",
   "pygments_lexer": "ipython3",
   "version": "3.8.5"
  }
 },
 "nbformat": 4,
 "nbformat_minor": 5
}
